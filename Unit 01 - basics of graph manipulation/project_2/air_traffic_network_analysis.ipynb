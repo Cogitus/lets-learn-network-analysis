{
 "cells": [
  {
   "cell_type": "markdown",
   "metadata": {},
   "source": [
    "# Second work, first Unit\n",
    "\n",
    "The following code is a approach to the solution of a series of problems involving the all flights in Brazil registered by ANAC (Agência Nacional de Aviação Civil - National Civil Aviation Agency). It is important to emphasize that the data used here contains information about all airports involved in these flights and a undirected graph with the number of flights between two airports."
   ]
  },
  {
   "cell_type": "markdown",
   "metadata": {},
   "source": [
    "## 2) Analysis of the Air Traffic Network network degree conectivity\n"
   ]
  },
  {
   "cell_type": "code",
   "execution_count": 2,
   "metadata": {},
   "outputs": [],
   "source": []
  }
 ],
 "metadata": {
  "interpreter": {
   "hash": "119e5dab613849fb2a62f03eae3957163276d2bad78e8a141a2346a3c169cad2"
  },
  "kernelspec": {
   "display_name": "Python 3.10.0 64-bit ('data_flights': conda)",
   "language": "python",
   "name": "python3"
  },
  "language_info": {
   "codemirror_mode": {
    "name": "ipython",
    "version": 3
   },
   "file_extension": ".py",
   "mimetype": "text/x-python",
   "name": "python",
   "nbconvert_exporter": "python",
   "pygments_lexer": "ipython3",
   "version": "3.10.0"
  },
  "orig_nbformat": 4
 },
 "nbformat": 4,
 "nbformat_minor": 2
}
