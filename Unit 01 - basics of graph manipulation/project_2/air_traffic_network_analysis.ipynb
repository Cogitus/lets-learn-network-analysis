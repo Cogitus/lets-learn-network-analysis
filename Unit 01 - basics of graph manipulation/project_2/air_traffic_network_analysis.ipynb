{
 "cells": [
  {
   "cell_type": "code",
   "execution_count": null,
   "metadata": {},
   "outputs": [],
   "source": []
  },
  {
   "cell_type": "markdown",
   "metadata": {},
   "source": [
    "# Second work, first Unit\n",
    "\n",
    "The following code is a approach to the solution of a series of problems involving the all flights in Brazil registered by ANAC (Agência Nacional de Aviação Civil - National Civil Aviation Agency). It is important to emphasize that the date used here contains information about all airports involved in these flights and a undirected graph with the number of flights between two airports."
   ]
  }
 ],
 "metadata": {
  "language_info": {
   "name": "python"
  },
  "orig_nbformat": 4
 },
 "nbformat": 4,
 "nbformat_minor": 2
}
